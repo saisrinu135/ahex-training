{
 "cells": [
  {
   "cell_type": "code",
   "execution_count": 2,
   "metadata": {},
   "outputs": [],
   "source": [
    "from langchain_openai import ChatOpenAI\n",
    "from langchain_core.messages import HumanMessage, SystemMessage\n",
    "from langchain_core.output_parsers import StrOutputParser\n",
    "\n",
    "from dotenv import load_dotenv\n",
    "load_dotenv()\n",
    "\n",
    "\n",
    "model = ChatOpenAI()\n",
    "parser = StrOutputParser()\n",
    "\n",
    "system_message = SystemMessage(\"You are a helpful assistant.\")\n",
    "messages = [system_message]\n",
    "\n",
    "chain = model | parser\n",
    "\n",
    "def chat():\n",
    "    while True:\n",
    "        user_input = input(\"You: \")\n",
    "        if user_input.lower() == \"exit\":\n",
    "            break\n",
    "        print(\"User\", user_input)\n",
    "        messages.append(HumanMessage(content=user_input))\n",
    "        result = chain.invoke(messages)\n",
    "        \n",
    "        print(\"Assistant: \", result)\n",
    "        messages.append(SystemMessage(result))"
   ]
  },
  {
   "cell_type": "code",
   "execution_count": 29,
   "metadata": {},
   "outputs": [
    {
     "name": "stdout",
     "output_type": "stream",
     "text": [
      "Welocome to the bot\n",
      "User What's my name?\n",
      "Assistant:  I'm sorry, but I don't have access to your personal information, including your name. How can I assist you today?\n"
     ]
    }
   ],
   "source": [
    "print(\"Welocome to the bot\")\n",
    "chat()"
   ]
  },
  {
   "cell_type": "code",
   "execution_count": 3,
   "metadata": {},
   "outputs": [],
   "source": [
    "from langchain_core.chat_history import BaseChatMessageHistory, InMemoryChatMessageHistory\n",
    "from langchain_core.runnables import RunnableWithMessageHistory\n",
    "\n",
    "\n",
    "model = ChatOpenAI()\n",
    "\n",
    "store = {}\n",
    "\n",
    "def session_history(session_id: str) -> BaseChatMessageHistory:\n",
    "    if session_id not in store:\n",
    "        store[session_id] = InMemoryChatMessageHistory()\n",
    "    return store[session_id]\n",
    "\n",
    "\n",
    "chat_with_history = RunnableWithMessageHistory(model, session_history)\n",
    "config = {'configurable': {\"session_id\": \"abcd1\"}}"
   ]
  },
  {
   "cell_type": "code",
   "execution_count": 6,
   "metadata": {},
   "outputs": [
    {
     "data": {
      "text/plain": [
       "'Your name is Bob.'"
      ]
     },
     "execution_count": 6,
     "metadata": {},
     "output_type": "execute_result"
    }
   ],
   "source": [
    "response = chat_with_history.invoke(\n",
    "    [HumanMessage(\"What is my name?\")],\n",
    "    config=config\n",
    ")\n",
    "\n",
    "response.content"
   ]
  },
  {
   "cell_type": "code",
   "execution_count": 7,
   "metadata": {},
   "outputs": [
    {
     "name": "stdout",
     "output_type": "stream",
     "text": [
      "{'abcd1': InMemoryChatMessageHistory(messages=[HumanMessage(content='Hi, I am Bob'), AIMessage(content='Hello Bob! How can I assist you today?', additional_kwargs={'refusal': None}, response_metadata={'token_usage': {'completion_tokens': 10, 'prompt_tokens': 12, 'total_tokens': 22}, 'model_name': 'gpt-3.5-turbo-0125', 'system_fingerprint': None, 'finish_reason': 'stop', 'logprobs': None}, id='run-557cc0ba-a38e-4813-b0de-f4e49471169c-0', usage_metadata={'input_tokens': 12, 'output_tokens': 10, 'total_tokens': 22}), HumanMessage(content='What is my name?'), AIMessage(content='Your name is Bob.', additional_kwargs={'refusal': None}, response_metadata={'token_usage': {'completion_tokens': 5, 'prompt_tokens': 35, 'total_tokens': 40}, 'model_name': 'gpt-3.5-turbo-0125', 'system_fingerprint': None, 'finish_reason': 'stop', 'logprobs': None}, id='run-319071f1-0150-4d28-83fe-3f9f184770c4-0', usage_metadata={'input_tokens': 35, 'output_tokens': 5, 'total_tokens': 40})])}\n"
     ]
    }
   ],
   "source": [
    "print(store)"
   ]
  }
 ],
 "metadata": {
  "kernelspec": {
   "display_name": "Python 3",
   "language": "python",
   "name": "python3"
  },
  "language_info": {
   "codemirror_mode": {
    "name": "ipython",
    "version": 3
   },
   "file_extension": ".py",
   "mimetype": "text/x-python",
   "name": "python",
   "nbconvert_exporter": "python",
   "pygments_lexer": "ipython3",
   "version": "3.12.5"
  }
 },
 "nbformat": 4,
 "nbformat_minor": 2
}
